{
 "cells": [
  {
   "cell_type": "code",
   "execution_count": 1,
   "metadata": {},
   "outputs": [],
   "source": [
    "# package import statement\n",
    "from smartapi import SmartConnect #or from smartapi.smartConnect import SmartConnect\n",
    "#import smartapi.smartExceptions(for smartExceptions)\n",
    "\n",
    "#create object of call\n",
    "obj=SmartConnect(api_key=\"VRGqMW3q\")\n",
    "\n",
    "#login api call\n",
    "\n",
    "data = obj.generateSession(\"client_id\",\"pin\",\"totp\")\n",
    "refreshToken= data['data']['refreshToken']\n",
    "#fetch the feedtoken\n",
    "feedToken=obj.getfeedToken()\n"
   ]
  },
  {
   "cell_type": "code",
   "execution_count": null,
   "metadata": {},
   "outputs": [],
   "source": [
    "from smartapi import SmartWebSocket\n",
    "import pandas as pd\n",
    "from seaborn import load_dataset\n",
    "import matplotlib as mpl\n",
    "import time\n",
    "import datetime\n",
    "import talib as ta\n",
    "import numpy as np\n",
    "FEED_TOKEN = feedToken\n",
    "CLIENT_CODE = \"put your client code\"\n",
    "# TOKEN_SYMBOL = \"mcx_fo|SILVERMIC21JUNFUT\"  # Example: nse_cm|2885&nse_cm|1594&nse_cm|11536&nse_cm|3045\n",
    "TASK = \"cndl\"  # cndl|sfi|dp\n",
    "\n",
    "try:\n",
    "    \n",
    "    historicParam={\n",
    "    \"exchange\": \"NSE\",\n",
    "    \"symboltoken\": \"1394\",\n",
    "    \"interval\": \"FIFTEEN_MINUTE\",\n",
    "    \"fromdate\": \"2023-05-01 09:15\", \n",
    "    \"todate\": \"2023-06-21 14:15\"\n",
    "    }\n",
    "    candledata=obj.getCandleData(historicParam)\n",
    "    print(candledata[\"data\"])\n",
    "    col=[\"Time\",\"Open\",\"High\",\"Low\",\"Close\",\"Volume\"]\n",
    "    candledata=pd.DataFrame(candledata[\"data\"],columns=col)\n",
    "    print(candledata)\n",
    "    # print(obj.getCSandleData(historicParam))\n",
    "except Exception as e:\n",
    "    \n",
    "    print(\"H\")\n",
    "    # print(\"Historic Api failed: {}\".format(e.message))\n"
   ]
  },
  {
   "cell_type": "markdown",
   "metadata": {},
   "source": [
    "Store the data and moving averages in a 2D grid."
   ]
  },
  {
   "cell_type": "code",
   "execution_count": null,
   "metadata": {},
   "outputs": [],
   "source": [
    "import pandas as pd\n",
    "closing_prices=pd.DataFrame()\n",
    "closing_prices['Close']=candledata[\"Close\"]\n",
    "closing_prices[\"Open\"]=candledata[\"Open\"]\n",
    "closing_prices[\"High\"]=candledata[\"High\"]\n",
    "closing_prices[\"Low\"]=candledata[\"Low\"]\n",
    "closing_prices[\"Volume\"]=candledata[\"Volume\"]\n",
    "closing_prices['EMA13'] = pd.Series.ewm(closing_prices['Close'], span = 13).mean()\n",
    "closing_prices['EMA50'] = pd.Series.ewm(closing_prices['Close'], span = 50).mean()\n",
    "closing_prices['EMA200'] = pd.Series.ewm(closing_prices['Close'], span = 200).mean()\n",
    "closing_prices['Upper_bb'], closing_prices['Middle_bb'], closing_prices['lower_bb'] = ta.BBANDS(candledata['Close'], timeperiod =20)\n",
    "closing_prices\n",
    "\n",
    "def latestclosing(tod):\n",
    "    try:\n",
    "        \n",
    "        historicParam={\n",
    "        \"exchange\": \"NSE\",\n",
    "        \"symboltoken\": \"2885\",\n",
    "        \"interval\": \"FIFTEEN_MINUTE\",\n",
    "        \"fromdate\": \"2023-05-21 09:15\", \n",
    "        \"todate\": tod\n",
    "        }\n",
    "        candledata=obj.getCandleData(historicParam)\n",
    "        \n",
    "        col=[\"Time\",\"Open\",\"High\",\"Low\",\"Close\",\"Volume\"]\n",
    "        candledata=pd.DataFrame(candledata[\"data\"],columns=col)\n",
    "        \n",
    "        print(obj.getCSandleData(historicParam))\n",
    "    except Exception as e:\n",
    "        print(\"H\")\n",
    "        # print(\"Historic Api failed: {}\".format(e.message))\n",
    "\n",
    "    closing_prices=pd.DataFrame()\n",
    "    closing_prices['Close']=candledata[\"Close\"]\n",
    "    closing_prices[\"Open\"]=candledata[\"Open\"]\n",
    "    closing_prices[\"High\"]=candledata[\"High\"]\n",
    "    closing_prices[\"Low\"]=candledata[\"Low\"]\n",
    "    closing_prices[\"Volume\"]=candledata[\"Volume\"]\n",
    "    closing_prices['EMA13'] = pd.Series.ewm(closing_prices['Close'], span = 13).mean()\n",
    "    closing_prices['EMA50'] = pd.Series.ewm(closing_prices['Close'], span = 50).mean()\n",
    "    closing_prices['EMA200'] = pd.Series.ewm(closing_prices['Close'], span = 200).mean()\n",
    "    closing_prices['Upper_bb'], closing_prices['Middle_bb'], closing_prices['lower_bb'] = ta.BBANDS(candledata['Close'], timeperiod =20)\n",
    "    print(closing_prices)\n",
    "    return closing_prices\n",
    "print(closing_prices)\n"
   ]
  },
  {
   "cell_type": "markdown",
   "metadata": {},
   "source": [
    "Use the while loop for fetching live data."
   ]
  },
  {
   "cell_type": "code",
   "execution_count": 121,
   "metadata": {},
   "outputs": [],
   "source": [
    "import time\n",
    "from datetime import datetime, timedelta\n",
    "\n",
    "\n",
    "\n",
    "\n",
    "duration = 60\n",
    "\n",
    "start_time = datetime.now()\n",
    "next_execution_time = start_time\n",
    "\n",
    "while True:\n",
    "    now = datetime.now()\n",
    "    dt_string = now.strftime(\"%Y-%m-%d %H:%M\")\n",
    "    print(\"date and time =\", dt_string)\n",
    "    #fetching live data after every 60 seconds.\n",
    "    closing_prices=latestclosing(dt_string)\n",
    "\n",
    "    \n",
    "    if now >= next_execution_time:\n",
    "        # Perform the task or execute the code block\n",
    "\n",
    "        next_execution_time = next_execution_time + timedelta(minutes=duration)\n",
    "\n",
    "    time.sleep(duration)"
   ]
  }
 ],
 "metadata": {
  "kernelspec": {
   "display_name": "algotrad",
   "language": "python",
   "name": "python3"
  },
  "language_info": {
   "codemirror_mode": {
    "name": "ipython",
    "version": 3
   },
   "file_extension": ".py",
   "mimetype": "text/x-python",
   "name": "python",
   "nbconvert_exporter": "python",
   "pygments_lexer": "ipython3",
   "version": "3.10.11"
  },
  "orig_nbformat": 4
 },
 "nbformat": 4,
 "nbformat_minor": 2
}
